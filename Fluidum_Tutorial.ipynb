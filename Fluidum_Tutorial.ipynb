{
 "cells": [
  {
   "cell_type": "markdown",
   "id": "4927a56d-c103-4f1e-8932-d4ea42c830f0",
   "metadata": {},
   "source": [
    "# Fluidum Tutorial"
   ]
  },
  {
   "cell_type": "markdown",
   "id": "ffecb469-4941-4fec-b8e1-918d72db516e",
   "metadata": {},
   "source": [
    "Fluidum is a code to solve relativistic viscous fluid-dynamic equations.\n",
    "\n",
    "http://arxiv.org/abs/1811.01870\n",
    "\n",
    "We will solve equations in 1+1 dimensions (r, tau) to compute transverse momentum distributions of identified particles."
   ]
  },
  {
   "cell_type": "code",
   "execution_count": null,
   "id": "94365925-7904-4333-9db7-5c15b3a95ae5",
   "metadata": {},
   "outputs": [],
   "source": [
    "using Fluidum"
   ]
  },
  {
   "cell_type": "markdown",
   "id": "1153b3f3",
   "metadata": {},
   "source": [
    "## Fluid Properties"
   ]
  },
  {
   "cell_type": "markdown",
   "id": "2f3ddd92",
   "metadata": {},
   "source": [
    "Here we specify the properties of the QGP: shear and bulk viscosity, and the equation of state."
   ]
  },
  {
   "cell_type": "code",
   "execution_count": null,
   "id": "d01c84ac",
   "metadata": {},
   "outputs": [],
   "source": [
    "#define equation of state and transport coefficients\n",
    "eos = FluiduMEoS()\n",
    "\n",
    "#define transport coefficients\n",
    "viscosity=QGPViscosity(0.2,0.2) #first number is eta/s\n",
    "bulk=SimpleBulkViscosity(0.1,15.0) #first number is zeta/s\n",
    "diffusion=ZeroDiffusion() #do not modify\n",
    "\n",
    "#collect eos and transport coefficient in the FluidProperties struct\n",
    "params=Fluidum.FluidProperties(eos,viscosity,bulk,diffusion)"
   ]
  },
  {
   "cell_type": "markdown",
   "id": "6bd294e9",
   "metadata": {},
   "source": [
    "## Grid and fields specification"
   ]
  },
  {
   "cell_type": "code",
   "execution_count": null,
   "id": "f081cbec",
   "metadata": {},
   "outputs": [],
   "source": [
    "#define a radial grid\n",
    "gridpoints=100\n",
    "rmax=20\n",
    "disc=CartesianDiscretization(OriginInterval(gridpoints,rmax)) \n",
    "#define the name and number of fields, with appropriate parity\n",
    "oned_visc_hydro = oned_visc_hydro=Fields(\n",
    "    NDField((:even,),(:ghost,),:temperature),\n",
    "    NDField((:odd,),(:ghost,),:ur),\n",
    "    NDField((:even,),(:ghost,),:piphiphi),\n",
    "    NDField((:even,),(:ghost,),:pietaeta),\n",
    "    NDField((:even,),(:ghost,),:piB)\n",
    "    )\n",
    "    \n",
    "disc_fields = DiscreteFileds(oned_visc_hydro,disc,Float64) "
   ]
  },
  {
   "cell_type": "markdown",
   "id": "3fc5131d-502b-4103-ae56-d88f40681476",
   "metadata": {},
   "source": [
    "## Initial conditions"
   ]
  },
  {
   "cell_type": "markdown",
   "id": "b9783075-b44a-45fe-b125-139e83553d44",
   "metadata": {},
   "source": [
    "Generate the initial conditions profiles using the Glauber model. Generate entropy density profile for e.g. the 0-5%, 5-10%, 10-20% and 20-30% centrality classes of PbPb collisions at 5 TeV at the LHC."
   ]
  },
  {
   "cell_type": "code",
   "execution_count": null,
   "id": "1ab6fa6c",
   "metadata": {},
   "outputs": [],
   "source": [
    "using MonteCarloGlauber"
   ]
  },
  {
   "cell_type": "markdown",
   "id": "7b4dffa8",
   "metadata": {},
   "source": [
    "1) The independent variable in the code is the temperature, not the entropy. Use the equation of state of an ideal gas of non-interacting quarks (Nf=3, with u,d,s) and gluons to get the temperature profile.\n"
   ]
  },
  {
   "cell_type": "code",
   "execution_count": null,
   "id": "e576ad6d",
   "metadata": {},
   "outputs": [],
   "source": [
    "n1= Lead()\n",
    "n2= Lead()\n",
    "#You can also try other nuclei: Gold, Copper, Uranium, Xenon\n",
    "\n",
    "#nuclear parameters (do not modify)\n",
    "w= 0.5\n",
    "k=1\n",
    "p=1.\n",
    "\n",
    "norm = 10 #this modifies the normalization of the entropy profile. It's a free parameter in our model.\n",
    "s_NN=5000 #center-of-mass energy\n",
    "fmGeV=5.\n",
    "#equation of state: entropy to temperature as function of temperature\n",
    "\n",
    "\n",
    "energy2(T)= #substitute entropy of the ideal gas of quarks (u,d,s) and gluons \n",
    "\n",
    "\n",
    "\n",
    "entropyToEnergy(T)=InverseFunction(energy2)(T)\n",
    "#signature: eos,(eos),norm,n1,n2,w,k,p,sNN,[centrality classes];#events, radial grid\n",
    "#notice that it's expensive to generate too many events and to make the grid too large. What's the size of your nucleus?\n",
    "#this will give you a rough estimate of how much your radial grid should be large.\n",
    "bg=MonteCarloGlauber.generate_bg(entropyToEnergy,norm,Lead(),Lead(),w,k,p,s_NN,[5];minBiasEvents=1000,r_grid=0:0.1:10)\n",
    "#bg,twpt=MonteCarloGlauber.generate_bg_two_pt_fct(energy2,energy2,norm,n1,n2,w,k,p,s_NN,[10,20,30,40],[2];minBiasEvents=1000,r_grid=0:0.1:10)"
   ]
  },
  {
   "cell_type": "markdown",
   "id": "09f837d6-f008-4ee4-93eb-e58b15d799d7",
   "metadata": {},
   "source": [
    "2) Plot the temperature or the entropy in the different centrality classes. What's the difference? You can also compute the total entropy (integral over radial profile) as a function of centrality."
   ]
  },
  {
   "cell_type": "code",
   "execution_count": null,
   "id": "afe37714",
   "metadata": {},
   "outputs": [],
   "source": [
    "using Plots\n",
    "plot(0:0.1:10,bg[1],label=\"0-5%\",xlabel = \"r [fm/c]\", ylabel=\"T [GeV]\")"
   ]
  },
  {
   "cell_type": "markdown",
   "id": "0b4f8d34",
   "metadata": {},
   "source": [
    "You can also look at the entropy density for a single event. This will fluctuate for each event, and doesn't have radial symmetry. This is relevant for flow coefficient calculations, which we won't consider today."
   ]
  },
  {
   "cell_type": "code",
   "execution_count": null,
   "id": "ba52da38",
   "metadata": {},
   "outputs": [],
   "source": [
    "#Plot 10 random events\n",
    "participants=Participants(n1,n2,w,s_NN,k,p) #you can add one argument at the end to specify a fixed impact parameter\n",
    "event=rand(participants,10) #second argument is the #events\n",
    "profile=map(event)   do x \n",
    "    map(Iterators.product(-10:0.5:10,-10:0.5:10)) do y\n",
    "        x(y...)\n",
    "    end\n",
    "end"
   ]
  },
  {
   "cell_type": "code",
   "execution_count": null,
   "id": "40ed48d4",
   "metadata": {},
   "outputs": [],
   "source": [
    "heatmap(-10:0.5:10,-10:0.5:10,profile[10],aspectratio=1,xrange=(-10,10),yrange=(-10,10))"
   ]
  },
  {
   "cell_type": "markdown",
   "id": "7d9020f4",
   "metadata": {},
   "source": [
    "We will need an interpolation of the temperature profile over a larger grid for our simulation. It is best to attach an exponential tail and an atmosphere (small offset) for numerical stability."
   ]
  },
  {
   "cell_type": "code",
   "execution_count": null,
   "id": "e7c31ad0-0781-405d-9af9-ee350cb1e7d2",
   "metadata": {},
   "outputs": [],
   "source": [
    "using Interpolations\n",
    "\n",
    "temp_fun=Interpolations.linear_interpolation(0:0.1:10,bg[1])\n",
    "temp_exp_tail(x) = Fluidum.exponential_tail_pointlike.(Ref(temp_fun), x; xmax = 8)\n",
    "#set the temperature field\n",
    "phi=set_array((x)->temp_exp_tail(x)+0.01,:temperature,disc_fields); \n",
    "plot(x->temp_exp_tail(x)+0.01,xrange=(0,20),label=\"exp tail\")\n",
    "plot!(x->temp_exp_tail(x)+0.01,xrange=(0,20), label=\"exp tail + atm\")\n",
    "#plot!(x->temp_fun(x),xrange=(0,10), label=\"only trento\")"
   ]
  },
  {
   "cell_type": "markdown",
   "id": "881fc8af",
   "metadata": {},
   "source": [
    "## Fluid evolution"
   ]
  },
  {
   "cell_type": "markdown",
   "id": "0744705d",
   "metadata": {},
   "source": [
    "We specify a time range in which we evolve the fluid fields."
   ]
  },
  {
   "cell_type": "code",
   "execution_count": null,
   "id": "e19b4481-b714-4d87-9c67-aea61c5587c2",
   "metadata": {},
   "outputs": [],
   "source": [
    "#define a time range for the evolution\n",
    "tspan = (0.4,5)\n",
    "\n",
    "#evolve until tspan[2]\n",
    "nofo=oneshoot(disc_fields,Fluidum.matrxi1d_visc!,params,phi,tspan)"
   ]
  },
  {
   "cell_type": "markdown",
   "id": "89ee95e6-00c3-4c61-b4d8-1d0c70dcf0ea",
   "metadata": {},
   "source": [
    "3) Plot the fluid fields. How does the fluid velocity (2nd component of the field) change with increasing shear viscosity? What happens to the dissipative fields (components 3, 4 and 5)?"
   ]
  },
  {
   "cell_type": "code",
   "execution_count": null,
   "id": "9d2586b5",
   "metadata": {
    "scrolled": true
   },
   "outputs": [],
   "source": [
    "#example: temperature evolution plot\n",
    "radius = zeros(102)\n",
    "[radius[i]= disc.grid[i][1] for i in eachindex(disc.grid[1:end])] \n",
    "begin\n",
    "    plot(radius[2:end-1],nofo(tspan[1])[1,2:end-1], label=\"t = \"*string(tspan[1])*\" fm/c\")\n",
    "    plot!(radius[2:end-1],nofo(1)[1,2:end-1])\n",
    "    plot!(radius[2:end-1],nofo(2)[1,2:end-1])\n",
    "    plot!(radius[2:end-1],nofo(tspan[2])[1,2:end-1], xlabel=\"r [fm/c]\",ylabel = \"T [GeV]\")\n",
    "end"
   ]
  },
  {
   "cell_type": "markdown",
   "id": "6990f328",
   "metadata": {},
   "source": [
    "## Freeze out"
   ]
  },
  {
   "cell_type": "markdown",
   "id": "7725b5bd",
   "metadata": {},
   "source": [
    "We are now going to compute observables at a freeze out surface, specified by a freeze out temperature (you can use T=0.140 GeV and T=0.156 GeV).\n"
   ]
  },
  {
   "cell_type": "code",
   "execution_count": null,
   "id": "a6695ec5",
   "metadata": {
    "scrolled": true
   },
   "outputs": [],
   "source": [
    "#specify freeze-out temperature with the optional argument Tfo (in GeV)\n",
    "tspan = (0.4,30)\n",
    "\n",
    "fo =freeze_out_routine(disc_fields,Fluidum.matrxi1d_visc!,params,phi,tspan;Tfo=0.140)\n",
    "fo2 =freeze_out_routine(disc_fields,Fluidum.matrxi1d_visc!,params,phi,tspan;Tfo=0.156)"
   ]
  },
  {
   "cell_type": "code",
   "execution_count": null,
   "id": "7e902cc7-15cb-42e1-aa08-401520a86058",
   "metadata": {},
   "outputs": [],
   "source": [
    "Fluidum.save_kernels(;Tmin=1400,Tmax=1560,dT=160, type = \"thermal\", file_path=pwd()*\"/kernels/\", MC = false)    \n",
    "Fluidum.save_kernels(;Tmin=1400,Tmax=1560,dT=160, type = \"total\", file_path=pwd()*\"/kernels/\", MC = false)    "
   ]
  },
  {
   "cell_type": "markdown",
   "id": "cd8fccb7-11ba-490c-91d4-fd2d436c5608",
   "metadata": {},
   "source": [
    "\n",
    "4) Plot the particle spectra for pions, kaons and protons. Which species is more abundant? Compute the multiplicity of a particle species. \n",
    "5) How does changing the freeze-out temperature affect the spectra? \n",
    "6) Plot the multiplicities as a function of centrality. How does this relate to the total entropy as a function of centrality/to the initial temperature profile?\n",
    "7) What's the impact of resonance decays?"
   ]
  },
  {
   "cell_type": "code",
   "execution_count": null,
   "id": "268be91a-6bd8-4bdc-82ba-b6bb7f92594a",
   "metadata": {},
   "outputs": [],
   "source": [
    "using LaTeXStrings\n",
    "\n",
    "\n",
    "LF=Fluidum.get_LF_Attributes(;file_path=pwd()*\"/kernels/\")\n",
    "Key_Tuple_LF=(:proton,:kaon,:pion)    \n",
    "dic = (; zip(Key_Tuple_LF, LF)...) \n",
    "\n",
    "ptrange=[i for i in range(0.1,3,100)]\n",
    "spectra=Fluidum.spectra_lf(fo,dic.pion,params,ptrange,decays=false)\n",
    "thermal=[spectra[i][1].*ptrange[i] for i in eachindex(ptrange)]\n",
    "spectra=Fluidum.spectra_lf(fo,dic.pion,params,ptrange,decays=true)\n",
    "total=[spectra[i][1].*ptrange[i] for i in eachindex(ptrange)]\n",
    "plot(ptrange,thermal,yscale=:log10,label=string(dic.pion.name)*\", thermal\",xlabel=L\"p_T \\mathrm{[GeV]}\",ylabel=L\"dN/2\\pi dp_T \\mathrm{[GeV^{-1}]}\",lw=2)\n",
    "plot!(ptrange,total,yscale=:log10,label=string(dic.pion.name)*\", total\",xlabel=L\"p_T \\mathrm{[GeV]}\",ylabel=L\"dN/2\\pi dp_T \\mathrm{[GeV^{-1}]}\",lw=2)\n",
    "\n",
    "#=\n",
    "spectra=Fluidum.spectra_lf(fo2,dic.pion,params,ptrange,decays=false)\n",
    "thermal=[spectra[i][1].*ptrange[i] for i in eachindex(ptrange)]\n",
    "spectra=Fluidum.spectra_lf(fo2,dic.pion,params,ptrange,decays=true)\n",
    "total=[spectra[i][1].*ptrange[i] for i in eachindex(ptrange)]\n",
    "plot!(ptrange,thermal,yscale=:log10,label=string(dic.pion.name)*\", thermal\",xlabel=L\"p_T \\mathrm{[GeV]}\",ylabel=L\"dN/2\\pi dp_T \\mathrm{[GeV^{-1}]}\",lw=2)\n",
    "plot!(ptrange,total,yscale=:log10,label=string(dic.pion.name)*\", total\",xlabel=L\"p_T \\mathrm{[GeV]}\",ylabel=L\"dN/2\\pi dp_T \\mathrm{[GeV^{-1}]}\",lw=2)\n",
    "=#"
   ]
  },
  {
   "cell_type": "markdown",
   "id": "c54a184e",
   "metadata": {},
   "source": [
    "## Comparison with experimental data"
   ]
  },
  {
   "cell_type": "markdown",
   "id": "7b84d2e9",
   "metadata": {
    "jupyter": {
     "source_hidden": true
    }
   },
   "source": [
    "7. Download the experimental data for pion transverse momentum distributions from the ALICE collaboration from HEPdata.\n",
    "\n",
    "5.02 TeV PbPb: https://www.hepdata.net/record/ins1759506?version=1&table=Table%201\n",
    "2.76 TeV: https://www.hepdata.net/record/ins1377750\n",
    "\n",
    "Download them in the CSV format.\n",
    "\n",
    "8. Plot the data together with the model calculations. What can you see? What is the effect of resonance decays?"
   ]
  },
  {
   "cell_type": "code",
   "execution_count": null,
   "id": "75dc3b41-f0e1-4cf6-89b0-d85c774aa5f6",
   "metadata": {
    "scrolled": true
   },
   "outputs": [],
   "source": [
    "#import Pkg; Pkg.add(\"CSV\")\n",
    "#import Pkg; Pkg.add(\"DataFrames\")\n",
    "using CSV, DataFrames\n",
    "df = CSV.File(\"HEPData-ins1759506-v1-Table_1.csv\"; comment = \"#\") |> DataFrame\n",
    "rename!(df,[:pt,:ptm,:ptp,:dNdpt,:statplus,:statmin,:systplus,:systmin,:systunplus,:systunmin])\n",
    "pt = parse.(Float64, first(df.pt,36))\n",
    "dNdpt = parse.(Float64, first(df.dNdpt,36))\n",
    "yerrp=parse.(Float64, first(df.statplus,36))\n",
    "yerrm=parse.(Float64, first(df.statmin,36))\n",
    "xerrm=pt.-parse.(Float64, first(df.ptm,36))\n",
    "plot(ptrange,4*pi*thermal,yscale=:log10,label=string(dic.pion.name)*\", thermal\",xlabel=L\"p_T \\mathrm{[GeV]}\",ylabel=L\"dN/2\\pi dp_T \\mathrm{[GeV^{-1}]}\",lw=2)\n",
    "plot!(ptrange,4*pi*total,yscale=:log10,label=string(dic.pion.name)*\", total\",xlabel=L\"p_T \\mathrm{[GeV]}\",ylabel=L\"dN/2\\pi dp_T \\mathrm{[GeV^{-1}]}\",lw=2)\n",
    "scatter!(pt,dNdpt,xerr = xerrm, yerror=(yerrm,yerrp),yscale=:log10,markerstrokewidth = 0.5,markersize = 2,label=\"data\")"
   ]
  },
  {
   "cell_type": "markdown",
   "id": "ba9faeda",
   "metadata": {},
   "source": [
    "## Prequel to Bayesian Inference"
   ]
  },
  {
   "cell_type": "markdown",
   "id": "145644db",
   "metadata": {},
   "source": [
    "To extract QGP properties by a comparison between model and data, it is important to undersand what observables are sensitive to which fluid properties. By looking at the particle spectra, to which parameter would you say it is sensitive out of the ones used today?"
   ]
  }
 ],
 "metadata": {
  "kernelspec": {
   "display_name": "Julia 1.11.3",
   "language": "julia",
   "name": "julia-1.11"
  },
  "language_info": {
   "file_extension": ".jl",
   "mimetype": "application/julia",
   "name": "julia",
   "version": "1.11.3"
  }
 },
 "nbformat": 4,
 "nbformat_minor": 5
}
